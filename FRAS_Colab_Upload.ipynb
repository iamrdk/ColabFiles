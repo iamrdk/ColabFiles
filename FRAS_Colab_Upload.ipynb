{
  "nbformat": 4,
  "nbformat_minor": 0,
  "metadata": {
    "colab": {
      "name": "Facial_Recognition_Attendance_System.ipynb",
      "provenance": [],
      "collapsed_sections": [],
      "toc_visible": true
    },
    "kernelspec": {
      "name": "python3",
      "display_name": "Python 3"
    },
    "language_info": {
      "name": "python"
    }
  },
  "cells": [
    {
      "cell_type": "code",
      "source": [
        "from keras.models import load_model\n",
        "from PIL import Image, ImageOps\n",
        "import numpy as np\n",
        "from datetime import datetime\n",
        "\n",
        "l=[]                     # To store the names of people in celebrity&empty.txt\n",
        "s=[]                     # To store the names present in the CSV file\n",
        "\n",
        "def readLabels():\n",
        "    with open('celebrity&empty.txt','r')as f: \n",
        "        for i in f:\n",
        "            s=i.split(' ')\n",
        "            l.append(s[1].strip('\\n'))      # Saving the names in global variable 'l'\n",
        "\n",
        "def dateTime(x):                            # This function takes care of CSV editing for Attendance\n",
        "    current=datetime.now()\t                # Getting current date and time \n",
        "    d= current.strftime(\"%d-%m-%Y\")         # Extracting Date in DD-MM-YYYY string format\n",
        "    t= current.strftime(\"%H:%M:%S\")         # Extracting time in HH:MM:SS string format\n",
        "    filename= str(d)+'.csv'                 # CSV file name as current date for easy management\n",
        "    a=t.split(':')                          # Splitting time to get HH,MM,SS as string\n",
        "    a=[int(x) for x in a]                   # Converting string HH,MM,SS to integer HH,MM,SS\n",
        "    time= str(t)+'\\n'                       # Saving current time as string which will be used while inserting in CSV file\n",
        "    m= \"\"\n",
        "    new=\"\"\n",
        "    flag=\"missing\"\n",
        "    if x!=\"Empty\":                          # If the recognized image is not \"Empty\" then\n",
        "        try:                                # To check if the file is present which might be absent if its the first record, as new file gets created once everyday with the date as name of the file\n",
        "            with open(filename,'r') as f: \n",
        "                m=f.read()                  # Storing old data as string from the file which will be needed to check and stop multiple entries of the same person in a given amount of time\n",
        "            for i in m:\n",
        "                if i!='\\n':\n",
        "                    new=new+i               # Saving each entry in a string\n",
        "                else:\n",
        "                    r=new.split(',')        # Old entry Name and Time is splitted\n",
        "                    new=\"\"\n",
        "                    oldCheck=r[1].split(':')                     # Saving the old entry time \"HH:MM:SS\" as \"HH\",\"MM\",\"SS\"\n",
        "                    oldCheck=[int(x) for x in oldCheck]          # Converting \"HH\",\"MM\",\"SS\" to HH,MM,SS as integers\n",
        "                    if (x==r[0]) and (a[0]-oldCheck[0]<0 or a[1]-oldCheck[1]<5) and flag==\"missing\":    # Checking if old entry with same name is present, if present whether the difference between the minutes is not less than 5 mins which removes the possibility of multiple entries of same person in less than 5 mins.\n",
        "                        flag=\"present\"  \n",
        "                        break                                    # If same entry is found, flag it and break\n",
        "                    elif x!=r[0]:                                # If not found, flag it for later\n",
        "                        flag=\"missing\"\n",
        "            if flag==\"missing\":                                  # This means no previous entry was found or the time difference of attendance is more than 5 mins\n",
        "                with open(filename,'w') as g:\n",
        "                    g.write(m)                                   # Add old entries\n",
        "                    g.write(x+\",\"+time)                          # Add the new Entry along with the old entries\n",
        "        except FileNotFoundError:                                # If file is not found\n",
        "            with open(filename,'w+') as f:                       # Create the file\n",
        "                f.write(x+\",\"+time)                              # Add the entry\n",
        "\n",
        "\n",
        "def imageProcessing():\n",
        "  model = load_model('celebrity&empty.h5')                      # Load the model\n",
        "  data = np.ndarray(shape=(1, 224, 224, 3), dtype=np.float32)   # Creating an array to fit the keras model\n",
        "  image = Image.open('image.jpg')                               # Opening the captured image\n",
        "  size = (224, 224)                                             # Resizing the image as 224,224\n",
        "  image = ImageOps.fit(image, size, Image.ANTIALIAS)            # Cropping from the center\n",
        "  image_array = np.asarray(image)                               # Turning image into numpy array\n",
        "  normalized_image_array = (image_array.astype(np.float32) / 127.0) - 1   # Normalize the image\n",
        "  data[0] = normalized_image_array                              # Load the image into the array\n",
        "  prediction = model.predict(data)                              # Recognise who is in the image\n",
        "  maxi=0.0                                                      # Variable to save the maximum prediction value for every class/people\n",
        "  p=0                                                           # Variable to save index of the maximum value\n",
        "  for i in range(len(prediction[0])):\n",
        "      o=float(prediction[0][i])\n",
        "      if (o>maxi):                                              # Saving values greater than current max                                    \n",
        "          maxi=max(maxi,o)  \n",
        "          p=i\n",
        "  dateTime(l[p])                                                # Calling dateTime for CSV edit\n",
        "\n",
        "readLabels()                                                    # Calling function to store the names fromtext file into variable\n",
        "#tillInfinity=True\n",
        "#while tillInfinity:                                            # To be used when deployed, will run till process is stopped\n",
        "imageProcessing()                                               # Calling function to process the image captured or uploaded"
      ],
      "metadata": {
        "colab": {
          "base_uri": "https://localhost:8080/"
        },
        "id": "WDaUmWU_xY1W",
        "outputId": "1a1376b3-b1ef-4f77-d8a1-09f65beded27"
      },
      "execution_count": null,
      "outputs": [
        {
          "output_type": "stream",
          "name": "stdout",
          "text": [
            "WARNING:tensorflow:No training configuration found in the save file, so the model was *not* compiled. Compile it manually.\n"
          ]
        }
      ]
    }
  ]
}